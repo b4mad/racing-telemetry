{
 "cells": [
  {
   "cell_type": "code",
   "execution_count": 1,
   "metadata": {},
   "outputs": [],
   "source": [
    "from init import *\n",
    "%load_ext autoreload\n",
    "%autoreload 2\n",
    "\n",
    "t = Telemetry()\n",
    "t.set_pandas_adapter()"
   ]
  },
  {
   "cell_type": "code",
   "execution_count": 2,
   "metadata": {},
   "outputs": [
    {
     "data": {
      "text/html": [
       "<div>\n",
       "<style scoped>\n",
       "    .dataframe tbody tr th:only-of-type {\n",
       "        vertical-align: middle;\n",
       "    }\n",
       "\n",
       "    .dataframe tbody tr th {\n",
       "        vertical-align: top;\n",
       "    }\n",
       "\n",
       "    .dataframe thead th {\n",
       "        text-align: right;\n",
       "    }\n",
       "</style>\n",
       "<table border=\"1\" class=\"dataframe\">\n",
       "  <thead>\n",
       "    <tr style=\"text-align: right;\">\n",
       "      <th></th>\n",
       "      <th>id</th>\n",
       "      <th>name</th>\n",
       "      <th>created</th>\n",
       "      <th>modified</th>\n",
       "    </tr>\n",
       "  </thead>\n",
       "  <tbody>\n",
       "    <tr>\n",
       "      <th>0</th>\n",
       "      <td>1</td>\n",
       "      <td>iRacing</td>\n",
       "      <td>2023-07-04 16:27:23.231475+00:00</td>\n",
       "      <td>2023-07-04 16:27:23.240536+00:00</td>\n",
       "    </tr>\n",
       "    <tr>\n",
       "      <th>1</th>\n",
       "      <td>2</td>\n",
       "      <td>RaceRoom</td>\n",
       "      <td>2023-07-04 16:27:23.231475+00:00</td>\n",
       "      <td>2023-07-04 16:27:23.240536+00:00</td>\n",
       "    </tr>\n",
       "    <tr>\n",
       "      <th>2</th>\n",
       "      <td>3</td>\n",
       "      <td>Assetto Corsa Competizione</td>\n",
       "      <td>2023-07-04 16:27:23.231475+00:00</td>\n",
       "      <td>2023-07-04 16:27:23.240536+00:00</td>\n",
       "    </tr>\n",
       "    <tr>\n",
       "      <th>3</th>\n",
       "      <td>4</td>\n",
       "      <td>Assetto Corsa (64 bit)</td>\n",
       "      <td>2023-07-04 16:27:23.231475+00:00</td>\n",
       "      <td>2023-07-04 16:27:23.240536+00:00</td>\n",
       "    </tr>\n",
       "    <tr>\n",
       "      <th>4</th>\n",
       "      <td>5</td>\n",
       "      <td>Automobilista 2</td>\n",
       "      <td>2023-07-04 16:27:23.231475+00:00</td>\n",
       "      <td>2023-07-04 16:27:23.240536+00:00</td>\n",
       "    </tr>\n",
       "    <tr>\n",
       "      <th>5</th>\n",
       "      <td>6</td>\n",
       "      <td>rFactor 2 (64 bit)</td>\n",
       "      <td>2023-07-04 16:27:23.231475+00:00</td>\n",
       "      <td>2023-07-04 16:27:23.240536+00:00</td>\n",
       "    </tr>\n",
       "    <tr>\n",
       "      <th>6</th>\n",
       "      <td>7</td>\n",
       "      <td>Automobilista</td>\n",
       "      <td>2023-07-04 16:27:23.231475+00:00</td>\n",
       "      <td>2023-07-04 16:27:23.240536+00:00</td>\n",
       "    </tr>\n",
       "    <tr>\n",
       "      <th>7</th>\n",
       "      <td>8</td>\n",
       "      <td>pCARS (network data)</td>\n",
       "      <td>2023-07-04 16:27:23.231475+00:00</td>\n",
       "      <td>2023-07-04 16:27:23.240536+00:00</td>\n",
       "    </tr>\n",
       "    <tr>\n",
       "      <th>8</th>\n",
       "      <td>9</td>\n",
       "      <td>Race Room</td>\n",
       "      <td>2023-07-04 16:27:23.231475+00:00</td>\n",
       "      <td>2023-07-04 16:27:23.240536+00:00</td>\n",
       "    </tr>\n",
       "    <tr>\n",
       "      <th>9</th>\n",
       "      <td>10</td>\n",
       "      <td>pCARS 2</td>\n",
       "      <td>2023-07-04 16:27:23.231475+00:00</td>\n",
       "      <td>2023-07-04 16:27:23.240536+00:00</td>\n",
       "    </tr>\n",
       "    <tr>\n",
       "      <th>10</th>\n",
       "      <td>11</td>\n",
       "      <td>rFactor</td>\n",
       "      <td>2023-07-04 16:27:23.231475+00:00</td>\n",
       "      <td>2023-07-04 16:27:23.240536+00:00</td>\n",
       "    </tr>\n",
       "    <tr>\n",
       "      <th>11</th>\n",
       "      <td>12</td>\n",
       "      <td>GTR 2</td>\n",
       "      <td>2023-07-04 16:27:23.231475+00:00</td>\n",
       "      <td>2023-07-04 16:27:23.240536+00:00</td>\n",
       "    </tr>\n",
       "    <tr>\n",
       "      <th>12</th>\n",
       "      <td>13</td>\n",
       "      <td>pCARS (64 bit)</td>\n",
       "      <td>2023-07-30 14:20:39.834020+00:00</td>\n",
       "      <td>2023-07-30 14:20:39.834020+00:00</td>\n",
       "    </tr>\n",
       "    <tr>\n",
       "      <th>13</th>\n",
       "      <td>14</td>\n",
       "      <td>Assetto Corsa (32 bit)</td>\n",
       "      <td>2023-08-21 19:58:33.342909+00:00</td>\n",
       "      <td>2023-08-21 19:58:33.342909+00:00</td>\n",
       "    </tr>\n",
       "    <tr>\n",
       "      <th>14</th>\n",
       "      <td>15</td>\n",
       "      <td>Richard Burns Rally</td>\n",
       "      <td>2023-12-21 09:37:18.833469+00:00</td>\n",
       "      <td>2023-12-21 09:37:18.833469+00:00</td>\n",
       "    </tr>\n",
       "    <tr>\n",
       "      <th>15</th>\n",
       "      <td>16</td>\n",
       "      <td>pCARS 3</td>\n",
       "      <td>2023-12-31 01:57:19.980456+00:00</td>\n",
       "      <td>2023-12-31 01:57:19.980456+00:00</td>\n",
       "    </tr>\n",
       "    <tr>\n",
       "      <th>16</th>\n",
       "      <td>17</td>\n",
       "      <td>iracing</td>\n",
       "      <td>2024-01-29 00:37:25.108586+00:00</td>\n",
       "      <td>2024-01-29 00:37:25.108586+00:00</td>\n",
       "    </tr>\n",
       "    <tr>\n",
       "      <th>17</th>\n",
       "      <td>18</td>\n",
       "      <td>ams2</td>\n",
       "      <td>2024-02-01 18:14:37.480642+00:00</td>\n",
       "      <td>2024-02-01 18:14:37.480642+00:00</td>\n",
       "    </tr>\n",
       "    <tr>\n",
       "      <th>18</th>\n",
       "      <td>19</td>\n",
       "      <td>Le Mans Ultimate</td>\n",
       "      <td>2024-02-21 14:58:50.053661+00:00</td>\n",
       "      <td>2024-02-21 14:58:50.053661+00:00</td>\n",
       "    </tr>\n",
       "    <tr>\n",
       "      <th>19</th>\n",
       "      <td>20</td>\n",
       "      <td>Project Cars (64 bit)</td>\n",
       "      <td>2024-05-18 20:06:40.319592+00:00</td>\n",
       "      <td>2024-05-18 20:06:40.319592+00:00</td>\n",
       "    </tr>\n",
       "  </tbody>\n",
       "</table>\n",
       "</div>"
      ],
      "text/plain": [
       "    id                        name                          created  \\\n",
       "0    1                     iRacing 2023-07-04 16:27:23.231475+00:00   \n",
       "1    2                    RaceRoom 2023-07-04 16:27:23.231475+00:00   \n",
       "2    3  Assetto Corsa Competizione 2023-07-04 16:27:23.231475+00:00   \n",
       "3    4      Assetto Corsa (64 bit) 2023-07-04 16:27:23.231475+00:00   \n",
       "4    5             Automobilista 2 2023-07-04 16:27:23.231475+00:00   \n",
       "5    6          rFactor 2 (64 bit) 2023-07-04 16:27:23.231475+00:00   \n",
       "6    7               Automobilista 2023-07-04 16:27:23.231475+00:00   \n",
       "7    8        pCARS (network data) 2023-07-04 16:27:23.231475+00:00   \n",
       "8    9                   Race Room 2023-07-04 16:27:23.231475+00:00   \n",
       "9   10                     pCARS 2 2023-07-04 16:27:23.231475+00:00   \n",
       "10  11                     rFactor 2023-07-04 16:27:23.231475+00:00   \n",
       "11  12                       GTR 2 2023-07-04 16:27:23.231475+00:00   \n",
       "12  13              pCARS (64 bit) 2023-07-30 14:20:39.834020+00:00   \n",
       "13  14      Assetto Corsa (32 bit) 2023-08-21 19:58:33.342909+00:00   \n",
       "14  15         Richard Burns Rally 2023-12-21 09:37:18.833469+00:00   \n",
       "15  16                     pCARS 3 2023-12-31 01:57:19.980456+00:00   \n",
       "16  17                     iracing 2024-01-29 00:37:25.108586+00:00   \n",
       "17  18                        ams2 2024-02-01 18:14:37.480642+00:00   \n",
       "18  19            Le Mans Ultimate 2024-02-21 14:58:50.053661+00:00   \n",
       "19  20       Project Cars (64 bit) 2024-05-18 20:06:40.319592+00:00   \n",
       "\n",
       "                           modified  \n",
       "0  2023-07-04 16:27:23.240536+00:00  \n",
       "1  2023-07-04 16:27:23.240536+00:00  \n",
       "2  2023-07-04 16:27:23.240536+00:00  \n",
       "3  2023-07-04 16:27:23.240536+00:00  \n",
       "4  2023-07-04 16:27:23.240536+00:00  \n",
       "5  2023-07-04 16:27:23.240536+00:00  \n",
       "6  2023-07-04 16:27:23.240536+00:00  \n",
       "7  2023-07-04 16:27:23.240536+00:00  \n",
       "8  2023-07-04 16:27:23.240536+00:00  \n",
       "9  2023-07-04 16:27:23.240536+00:00  \n",
       "10 2023-07-04 16:27:23.240536+00:00  \n",
       "11 2023-07-04 16:27:23.240536+00:00  \n",
       "12 2023-07-30 14:20:39.834020+00:00  \n",
       "13 2023-08-21 19:58:33.342909+00:00  \n",
       "14 2023-12-21 09:37:18.833469+00:00  \n",
       "15 2023-12-31 01:57:19.980456+00:00  \n",
       "16 2024-01-29 00:37:25.108586+00:00  \n",
       "17 2024-02-01 18:14:37.480642+00:00  \n",
       "18 2024-02-21 14:58:50.053661+00:00  \n",
       "19 2024-05-18 20:06:40.319592+00:00  "
      ]
     },
     "execution_count": 2,
     "metadata": {},
     "output_type": "execute_result"
    }
   ],
   "source": [
    "t.games()"
   ]
  },
  {
   "cell_type": "code",
   "execution_count": 3,
   "metadata": {},
   "outputs": [
    {
     "name": "stdout",
     "output_type": "stream",
     "text": [
      "   count    name\n",
      "0    106   Aaron\n",
      "1      9  Abgelo\n",
      "2    288    Adam\n",
      "3      9   Adnan\n",
      "4     11    Alan\n"
     ]
    },
    {
     "data": {
      "application/vnd.plotly.v1+json": {
       "config": {
        "plotlyServerURL": "https://plot.ly"
       },
       "data": [
        {
         "alignmentgroup": "True",
         "hovertemplate": "name=%{x}<br>count=%{y}<extra></extra>",
         "legendgroup": "",
         "marker": {
          "color": "#636efa",
          "pattern": {
           "shape": ""
          }
         },
         "name": "",
         "offsetgroup": "",
         "orientation": "v",
         "showlegend": false,
         "textposition": "auto",
         "type": "bar",
         "x": [
          "Aaron",
          "Abgelo",
          "Adam",
          "Adnan",
          "Alan",
          "Alex",
          "André",
          "Anthony",
          "Anton",
          "Austin",
          "Baird",
          "Blake",
          "Bob",
          "Brandon",
          "Bryan",
          "Burei",
          "CJ",
          "Carlos",
          "Cavallino",
          "Cecil",
          "Chief",
          "Chris",
          "Clare",
          "Clement Veniard",
          "DORU",
          "Dale",
          "Damos",
          "Dan",
          "Daryl",
          "David",
          "DeBaron",
          "Denno",
          "Dick",
          "Diego",
          "Dion",
          "Dippy",
          "Dutch",
          "Dylan",
          "Emily",
          "Emupyyy",
          "Fernando",
          "France",
          "Frank",
          "Frederik",
          "GPAllen",
          "Gary D Smallacombe",
          "Geoff",
          "Getadeks277",
          "Ginger",
          "Giorgio Pianta",
          "Harm",
          "HotWheelz",
          "Ian",
          "Indigo",
          "ItzPeter89",
          "Itzpeter89_off",
          "Ivan",
          "Iwan",
          "JD",
          "JIm",
          "Jacob",
          "James",
          "Jan",
          "Jappie",
          "Jason",
          "Jesh",
          "Jesus",
          "Jim Britton",
          "Jiml",
          "Jimmy",
          "Joe",
          "Joey",
          "Joey Stacks",
          "John",
          "Jonathan",
          "Josh",
          "Kari",
          "Kevin Bylund",
          "Khaya",
          "Kitt",
          "Klaus Turbo",
          "Kobe",
          "Kris",
          "Lal",
          "Les",
          "Lil Stroganoff",
          "Lolmwaxx",
          "Louis",
          "MAC",
          "MAR",
          "MAREK",
          "Manel",
          "Mang",
          "Marcos",
          "Mark",
          "Marko",
          "Markus",
          "Martin",
          "Matt",
          "Matteo Besutti",
          "Mattias",
          "Miguel",
          "Miguell",
          "Mike",
          "Mikogi",
          "Minodino",
          "Mr Tulca",
          "Mykola",
          "Nerd",
          "Nick",
          "Nick Stim",
          "Nielsz",
          "Nige",
          "Oscar",
          "OscarU",
          "Oscaru",
          "Pablo",
          "Panther",
          "Pepeu",
          "Petar",
          "Pete",
          "Phil",
          "RacerKris23",
          "Radke",
          "Rafael",
          "Randy O",
          "Ricardo",
          "Richie Coy",
          "RichyBugs",
          "Ringo",
          "Robek",
          "Roller 42",
          "Rollerman",
          "Ron",
          "Rudi",
          "Ruffo",
          "SShukes",
          "STUPIDPANDA",
          "Sam",
          "Sammy",
          "Schwesig",
          "Sharita",
          "Shaw",
          "Shawn McKinney",
          "Siriki",
          "Sosaleo",
          "Speed",
          "Spheroidon",
          "Stavros",
          "StefanB",
          "Stephane",
          "Stephen",
          "Suhail",
          "Tec",
          "Teixeira",
          "Thiberious",
          "Thomas",
          "Tim A Holmes",
          "Tony",
          "Totti",
          "Traino",
          "Tóno",
          "Unlimited",
          "Victor",
          "Vincent Vosse",
          "Viv",
          "Wayne",
          "Wes",
          "Will",
          "Willy",
          "Zach",
          "Zukuto",
          "adil",
          "bill",
          "bob",
          "brandon",
          "chad",
          "cody",
          "crewchief",
          "david",
          "deanv889",
          "dude",
          "durandom",
          "e Grant",
          "e Grant_CRC_Team CR",
          "eXprime",
          "fabio",
          "fommil",
          "geil",
          "george",
          "goern",
          "invalid drivername",
          "javi",
          "javier",
          "jeff",
          "joey",
          "jr",
          "julrich",
          "lee",
          "lm",
          "luis",
          "marc",
          "massimo",
          "matteo",
          "oliver",
          "ricky bobby",
          "samsam",
          "wilms",
          "zain"
         ],
         "xaxis": "x",
         "y": [
          106,
          9,
          288,
          9,
          11,
          942,
          50,
          660,
          360,
          17,
          822,
          447,
          9,
          795,
          30,
          12,
          344,
          793,
          211,
          227,
          108,
          34,
          8,
          13,
          691,
          21,
          20,
          130,
          909,
          489,
          73,
          75,
          588,
          20,
          86,
          345,
          569,
          8,
          255,
          59,
          326,
          153,
          65,
          1071,
          40,
          23,
          5,
          76,
          3,
          12,
          700,
          110,
          1004,
          39,
          269,
          2905,
          3,
          628,
          182,
          615,
          2,
          167,
          1,
          19,
          730,
          3,
          79,
          1022,
          532,
          5,
          4826,
          6,
          1280,
          170,
          2313,
          597,
          40,
          5,
          357,
          1057,
          1389,
          815,
          8,
          147,
          4,
          181,
          765,
          356,
          14,
          55,
          1,
          428,
          173,
          56,
          157,
          102,
          27,
          245,
          180,
          92,
          6780,
          24,
          4,
          3561,
          185,
          167,
          11,
          1225,
          116,
          823,
          9,
          549,
          93,
          311,
          1,
          159,
          23,
          10,
          5,
          123,
          947,
          67,
          301,
          241,
          32,
          632,
          6,
          709,
          76,
          66,
          140,
          1,
          86,
          1,
          25,
          54,
          162,
          81,
          1354,
          8,
          17,
          9,
          4384,
          35,
          246,
          193,
          93,
          3,
          6,
          249,
          7,
          31,
          79,
          798,
          2,
          437,
          188,
          4,
          495,
          108,
          122,
          2,
          77,
          19,
          11,
          1,
          11,
          20,
          8,
          24,
          193,
          35,
          272,
          262,
          4064,
          765,
          1089,
          56,
          5,
          5,
          191,
          33,
          3390,
          879,
          71,
          403,
          125,
          305,
          138,
          74,
          220,
          100,
          989,
          4671,
          6,
          2,
          231,
          1130,
          116,
          211,
          69,
          19,
          71,
          111,
          407,
          339,
          3,
          22,
          20
         ],
         "yaxis": "y"
        }
       ],
       "layout": {
        "barmode": "relative",
        "legend": {
         "tracegroupgap": 0
        },
        "template": {
         "data": {
          "bar": [
           {
            "error_x": {
             "color": "#2a3f5f"
            },
            "error_y": {
             "color": "#2a3f5f"
            },
            "marker": {
             "line": {
              "color": "#E5ECF6",
              "width": 0.5
             },
             "pattern": {
              "fillmode": "overlay",
              "size": 10,
              "solidity": 0.2
             }
            },
            "type": "bar"
           }
          ],
          "barpolar": [
           {
            "marker": {
             "line": {
              "color": "#E5ECF6",
              "width": 0.5
             },
             "pattern": {
              "fillmode": "overlay",
              "size": 10,
              "solidity": 0.2
             }
            },
            "type": "barpolar"
           }
          ],
          "carpet": [
           {
            "aaxis": {
             "endlinecolor": "#2a3f5f",
             "gridcolor": "white",
             "linecolor": "white",
             "minorgridcolor": "white",
             "startlinecolor": "#2a3f5f"
            },
            "baxis": {
             "endlinecolor": "#2a3f5f",
             "gridcolor": "white",
             "linecolor": "white",
             "minorgridcolor": "white",
             "startlinecolor": "#2a3f5f"
            },
            "type": "carpet"
           }
          ],
          "choropleth": [
           {
            "colorbar": {
             "outlinewidth": 0,
             "ticks": ""
            },
            "type": "choropleth"
           }
          ],
          "contour": [
           {
            "colorbar": {
             "outlinewidth": 0,
             "ticks": ""
            },
            "colorscale": [
             [
              0,
              "#0d0887"
             ],
             [
              0.1111111111111111,
              "#46039f"
             ],
             [
              0.2222222222222222,
              "#7201a8"
             ],
             [
              0.3333333333333333,
              "#9c179e"
             ],
             [
              0.4444444444444444,
              "#bd3786"
             ],
             [
              0.5555555555555556,
              "#d8576b"
             ],
             [
              0.6666666666666666,
              "#ed7953"
             ],
             [
              0.7777777777777778,
              "#fb9f3a"
             ],
             [
              0.8888888888888888,
              "#fdca26"
             ],
             [
              1,
              "#f0f921"
             ]
            ],
            "type": "contour"
           }
          ],
          "contourcarpet": [
           {
            "colorbar": {
             "outlinewidth": 0,
             "ticks": ""
            },
            "type": "contourcarpet"
           }
          ],
          "heatmap": [
           {
            "colorbar": {
             "outlinewidth": 0,
             "ticks": ""
            },
            "colorscale": [
             [
              0,
              "#0d0887"
             ],
             [
              0.1111111111111111,
              "#46039f"
             ],
             [
              0.2222222222222222,
              "#7201a8"
             ],
             [
              0.3333333333333333,
              "#9c179e"
             ],
             [
              0.4444444444444444,
              "#bd3786"
             ],
             [
              0.5555555555555556,
              "#d8576b"
             ],
             [
              0.6666666666666666,
              "#ed7953"
             ],
             [
              0.7777777777777778,
              "#fb9f3a"
             ],
             [
              0.8888888888888888,
              "#fdca26"
             ],
             [
              1,
              "#f0f921"
             ]
            ],
            "type": "heatmap"
           }
          ],
          "heatmapgl": [
           {
            "colorbar": {
             "outlinewidth": 0,
             "ticks": ""
            },
            "colorscale": [
             [
              0,
              "#0d0887"
             ],
             [
              0.1111111111111111,
              "#46039f"
             ],
             [
              0.2222222222222222,
              "#7201a8"
             ],
             [
              0.3333333333333333,
              "#9c179e"
             ],
             [
              0.4444444444444444,
              "#bd3786"
             ],
             [
              0.5555555555555556,
              "#d8576b"
             ],
             [
              0.6666666666666666,
              "#ed7953"
             ],
             [
              0.7777777777777778,
              "#fb9f3a"
             ],
             [
              0.8888888888888888,
              "#fdca26"
             ],
             [
              1,
              "#f0f921"
             ]
            ],
            "type": "heatmapgl"
           }
          ],
          "histogram": [
           {
            "marker": {
             "pattern": {
              "fillmode": "overlay",
              "size": 10,
              "solidity": 0.2
             }
            },
            "type": "histogram"
           }
          ],
          "histogram2d": [
           {
            "colorbar": {
             "outlinewidth": 0,
             "ticks": ""
            },
            "colorscale": [
             [
              0,
              "#0d0887"
             ],
             [
              0.1111111111111111,
              "#46039f"
             ],
             [
              0.2222222222222222,
              "#7201a8"
             ],
             [
              0.3333333333333333,
              "#9c179e"
             ],
             [
              0.4444444444444444,
              "#bd3786"
             ],
             [
              0.5555555555555556,
              "#d8576b"
             ],
             [
              0.6666666666666666,
              "#ed7953"
             ],
             [
              0.7777777777777778,
              "#fb9f3a"
             ],
             [
              0.8888888888888888,
              "#fdca26"
             ],
             [
              1,
              "#f0f921"
             ]
            ],
            "type": "histogram2d"
           }
          ],
          "histogram2dcontour": [
           {
            "colorbar": {
             "outlinewidth": 0,
             "ticks": ""
            },
            "colorscale": [
             [
              0,
              "#0d0887"
             ],
             [
              0.1111111111111111,
              "#46039f"
             ],
             [
              0.2222222222222222,
              "#7201a8"
             ],
             [
              0.3333333333333333,
              "#9c179e"
             ],
             [
              0.4444444444444444,
              "#bd3786"
             ],
             [
              0.5555555555555556,
              "#d8576b"
             ],
             [
              0.6666666666666666,
              "#ed7953"
             ],
             [
              0.7777777777777778,
              "#fb9f3a"
             ],
             [
              0.8888888888888888,
              "#fdca26"
             ],
             [
              1,
              "#f0f921"
             ]
            ],
            "type": "histogram2dcontour"
           }
          ],
          "mesh3d": [
           {
            "colorbar": {
             "outlinewidth": 0,
             "ticks": ""
            },
            "type": "mesh3d"
           }
          ],
          "parcoords": [
           {
            "line": {
             "colorbar": {
              "outlinewidth": 0,
              "ticks": ""
             }
            },
            "type": "parcoords"
           }
          ],
          "pie": [
           {
            "automargin": true,
            "type": "pie"
           }
          ],
          "scatter": [
           {
            "fillpattern": {
             "fillmode": "overlay",
             "size": 10,
             "solidity": 0.2
            },
            "type": "scatter"
           }
          ],
          "scatter3d": [
           {
            "line": {
             "colorbar": {
              "outlinewidth": 0,
              "ticks": ""
             }
            },
            "marker": {
             "colorbar": {
              "outlinewidth": 0,
              "ticks": ""
             }
            },
            "type": "scatter3d"
           }
          ],
          "scattercarpet": [
           {
            "marker": {
             "colorbar": {
              "outlinewidth": 0,
              "ticks": ""
             }
            },
            "type": "scattercarpet"
           }
          ],
          "scattergeo": [
           {
            "marker": {
             "colorbar": {
              "outlinewidth": 0,
              "ticks": ""
             }
            },
            "type": "scattergeo"
           }
          ],
          "scattergl": [
           {
            "marker": {
             "colorbar": {
              "outlinewidth": 0,
              "ticks": ""
             }
            },
            "type": "scattergl"
           }
          ],
          "scattermapbox": [
           {
            "marker": {
             "colorbar": {
              "outlinewidth": 0,
              "ticks": ""
             }
            },
            "type": "scattermapbox"
           }
          ],
          "scatterpolar": [
           {
            "marker": {
             "colorbar": {
              "outlinewidth": 0,
              "ticks": ""
             }
            },
            "type": "scatterpolar"
           }
          ],
          "scatterpolargl": [
           {
            "marker": {
             "colorbar": {
              "outlinewidth": 0,
              "ticks": ""
             }
            },
            "type": "scatterpolargl"
           }
          ],
          "scatterternary": [
           {
            "marker": {
             "colorbar": {
              "outlinewidth": 0,
              "ticks": ""
             }
            },
            "type": "scatterternary"
           }
          ],
          "surface": [
           {
            "colorbar": {
             "outlinewidth": 0,
             "ticks": ""
            },
            "colorscale": [
             [
              0,
              "#0d0887"
             ],
             [
              0.1111111111111111,
              "#46039f"
             ],
             [
              0.2222222222222222,
              "#7201a8"
             ],
             [
              0.3333333333333333,
              "#9c179e"
             ],
             [
              0.4444444444444444,
              "#bd3786"
             ],
             [
              0.5555555555555556,
              "#d8576b"
             ],
             [
              0.6666666666666666,
              "#ed7953"
             ],
             [
              0.7777777777777778,
              "#fb9f3a"
             ],
             [
              0.8888888888888888,
              "#fdca26"
             ],
             [
              1,
              "#f0f921"
             ]
            ],
            "type": "surface"
           }
          ],
          "table": [
           {
            "cells": {
             "fill": {
              "color": "#EBF0F8"
             },
             "line": {
              "color": "white"
             }
            },
            "header": {
             "fill": {
              "color": "#C8D4E3"
             },
             "line": {
              "color": "white"
             }
            },
            "type": "table"
           }
          ]
         },
         "layout": {
          "annotationdefaults": {
           "arrowcolor": "#2a3f5f",
           "arrowhead": 0,
           "arrowwidth": 1
          },
          "autotypenumbers": "strict",
          "coloraxis": {
           "colorbar": {
            "outlinewidth": 0,
            "ticks": ""
           }
          },
          "colorscale": {
           "diverging": [
            [
             0,
             "#8e0152"
            ],
            [
             0.1,
             "#c51b7d"
            ],
            [
             0.2,
             "#de77ae"
            ],
            [
             0.3,
             "#f1b6da"
            ],
            [
             0.4,
             "#fde0ef"
            ],
            [
             0.5,
             "#f7f7f7"
            ],
            [
             0.6,
             "#e6f5d0"
            ],
            [
             0.7,
             "#b8e186"
            ],
            [
             0.8,
             "#7fbc41"
            ],
            [
             0.9,
             "#4d9221"
            ],
            [
             1,
             "#276419"
            ]
           ],
           "sequential": [
            [
             0,
             "#0d0887"
            ],
            [
             0.1111111111111111,
             "#46039f"
            ],
            [
             0.2222222222222222,
             "#7201a8"
            ],
            [
             0.3333333333333333,
             "#9c179e"
            ],
            [
             0.4444444444444444,
             "#bd3786"
            ],
            [
             0.5555555555555556,
             "#d8576b"
            ],
            [
             0.6666666666666666,
             "#ed7953"
            ],
            [
             0.7777777777777778,
             "#fb9f3a"
            ],
            [
             0.8888888888888888,
             "#fdca26"
            ],
            [
             1,
             "#f0f921"
            ]
           ],
           "sequentialminus": [
            [
             0,
             "#0d0887"
            ],
            [
             0.1111111111111111,
             "#46039f"
            ],
            [
             0.2222222222222222,
             "#7201a8"
            ],
            [
             0.3333333333333333,
             "#9c179e"
            ],
            [
             0.4444444444444444,
             "#bd3786"
            ],
            [
             0.5555555555555556,
             "#d8576b"
            ],
            [
             0.6666666666666666,
             "#ed7953"
            ],
            [
             0.7777777777777778,
             "#fb9f3a"
            ],
            [
             0.8888888888888888,
             "#fdca26"
            ],
            [
             1,
             "#f0f921"
            ]
           ]
          },
          "colorway": [
           "#636efa",
           "#EF553B",
           "#00cc96",
           "#ab63fa",
           "#FFA15A",
           "#19d3f3",
           "#FF6692",
           "#B6E880",
           "#FF97FF",
           "#FECB52"
          ],
          "font": {
           "color": "#2a3f5f"
          },
          "geo": {
           "bgcolor": "white",
           "lakecolor": "white",
           "landcolor": "#E5ECF6",
           "showlakes": true,
           "showland": true,
           "subunitcolor": "white"
          },
          "hoverlabel": {
           "align": "left"
          },
          "hovermode": "closest",
          "mapbox": {
           "style": "light"
          },
          "paper_bgcolor": "white",
          "plot_bgcolor": "#E5ECF6",
          "polar": {
           "angularaxis": {
            "gridcolor": "white",
            "linecolor": "white",
            "ticks": ""
           },
           "bgcolor": "#E5ECF6",
           "radialaxis": {
            "gridcolor": "white",
            "linecolor": "white",
            "ticks": ""
           }
          },
          "scene": {
           "xaxis": {
            "backgroundcolor": "#E5ECF6",
            "gridcolor": "white",
            "gridwidth": 2,
            "linecolor": "white",
            "showbackground": true,
            "ticks": "",
            "zerolinecolor": "white"
           },
           "yaxis": {
            "backgroundcolor": "#E5ECF6",
            "gridcolor": "white",
            "gridwidth": 2,
            "linecolor": "white",
            "showbackground": true,
            "ticks": "",
            "zerolinecolor": "white"
           },
           "zaxis": {
            "backgroundcolor": "#E5ECF6",
            "gridcolor": "white",
            "gridwidth": 2,
            "linecolor": "white",
            "showbackground": true,
            "ticks": "",
            "zerolinecolor": "white"
           }
          },
          "shapedefaults": {
           "line": {
            "color": "#2a3f5f"
           }
          },
          "ternary": {
           "aaxis": {
            "gridcolor": "white",
            "linecolor": "white",
            "ticks": ""
           },
           "baxis": {
            "gridcolor": "white",
            "linecolor": "white",
            "ticks": ""
           },
           "bgcolor": "#E5ECF6",
           "caxis": {
            "gridcolor": "white",
            "linecolor": "white",
            "ticks": ""
           }
          },
          "title": {
           "x": 0.05
          },
          "xaxis": {
           "automargin": true,
           "gridcolor": "white",
           "linecolor": "white",
           "ticks": "",
           "title": {
            "standoff": 15
           },
           "zerolinecolor": "white",
           "zerolinewidth": 2
          },
          "yaxis": {
           "automargin": true,
           "gridcolor": "white",
           "linecolor": "white",
           "ticks": "",
           "title": {
            "standoff": 15
           },
           "zerolinecolor": "white",
           "zerolinewidth": 2
          }
         }
        },
        "title": {
         "text": "Session Count by Driver"
        },
        "xaxis": {
         "anchor": "y",
         "domain": [
          0,
          1
         ],
         "title": {
          "text": "Driver Name"
         }
        },
        "yaxis": {
         "anchor": "x",
         "domain": [
          0,
          1
         ],
         "title": {
          "text": "Session Count"
         }
        }
       }
      }
     },
     "metadata": {},
     "output_type": "display_data"
    }
   ],
   "source": [
    "df = t.sessions(group_by = 'driver', limit = None)\n",
    "# Remove the row with name 'Jim'\n",
    "df = df[df['name'] != 'Jim']\n",
    "\n",
    "print(df.head())\n",
    "\n",
    "#    count    name\n",
    "# 0    106   Aaron\n",
    "# 1      9  Abgelo\n",
    "# 2    288    Adam\n",
    "# 3      9   Adnan\n",
    "# 4     11    Alan\n",
    "\n",
    "# Create a bar chart using Plotly\n",
    "fig = px.bar(df, x='name', y='count', title='Session Count by Driver')\n",
    "fig.update_xaxes(title='Driver Name')\n",
    "fig.update_yaxes(title='Session Count')\n",
    "fig.show()"
   ]
  },
  {
   "cell_type": "code",
   "execution_count": null,
   "metadata": {},
   "outputs": [],
   "source": []
  }
 ],
 "metadata": {
  "kernelspec": {
   "display_name": "racing-telemetry-h4iewZ9U",
   "language": "python",
   "name": "python3"
  },
  "language_info": {
   "codemirror_mode": {
    "name": "ipython",
    "version": 3
   },
   "file_extension": ".py",
   "mimetype": "text/x-python",
   "name": "python",
   "nbconvert_exporter": "python",
   "pygments_lexer": "ipython3",
   "version": "3.12.3"
  }
 },
 "nbformat": 4,
 "nbformat_minor": 2
}
